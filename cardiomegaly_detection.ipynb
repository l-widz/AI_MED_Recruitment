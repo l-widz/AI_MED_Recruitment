{
 "cells": [
  {
   "cell_type": "markdown",
   "id": "c26c9852",
   "metadata": {},
   "source": [
    "## Problem Overview\n",
    "Hypertrophic cardiomyopathy (cardiomegaly) is a genetic condition where the heart muscle becomes abnormally thickened, making it harder for the heart to pump blood.\n",
    "This project aims to develop a machine learning model that can accurately detect cardiomegaly from data about chest X-ray images using data from the `task_data.csv` file."
   ]
  },
  {
   "cell_type": "markdown",
   "id": "08465d34",
   "metadata": {},
   "source": [
    "### Imports"
   ]
  },
  {
   "cell_type": "code",
   "execution_count": 105,
   "id": "1c68488d",
   "metadata": {},
   "outputs": [],
   "source": [
    "import pandas as pd\n",
    "import numpy as np\n",
    "import matplotlib.pyplot as plt\n",
    "\n",
    "from sklearn.model_selection import train_test_split, cross_val_score\n",
    "from sklearn.preprocessing import StandardScaler"
   ]
  },
  {
   "cell_type": "markdown",
   "id": "b49a2e5e",
   "metadata": {},
   "source": [
    "### Loading the Data"
   ]
  },
  {
   "cell_type": "code",
   "execution_count": 106,
   "id": "231c7f7d",
   "metadata": {},
   "outputs": [
    {
     "name": "stdout",
     "output_type": "stream",
     "text": [
      "Dataset loaded successfully!\n",
      "Shape: (37, 14)\n"
     ]
    }
   ],
   "source": [
    "df = pd.read_csv(\"task_data.csv\", decimal=',')\n",
    "print(f\"Dataset loaded successfully!\")\n",
    "print(f\"Shape: {df.shape}\")"
   ]
  },
  {
   "cell_type": "markdown",
   "id": "ccd39723",
   "metadata": {},
   "source": [
    "### Data Overview"
   ]
  },
  {
   "cell_type": "code",
   "execution_count": 107,
   "id": "fac71f0d",
   "metadata": {},
   "outputs": [
    {
     "data": {
      "text/html": [
       "<div>\n",
       "<style scoped>\n",
       "    .dataframe tbody tr th:only-of-type {\n",
       "        vertical-align: middle;\n",
       "    }\n",
       "\n",
       "    .dataframe tbody tr th {\n",
       "        vertical-align: top;\n",
       "    }\n",
       "\n",
       "    .dataframe thead th {\n",
       "        text-align: right;\n",
       "    }\n",
       "</style>\n",
       "<table border=\"1\" class=\"dataframe\">\n",
       "  <thead>\n",
       "    <tr style=\"text-align: right;\">\n",
       "      <th></th>\n",
       "      <th>ID</th>\n",
       "      <th>Cardiomegaly</th>\n",
       "      <th>Heart width</th>\n",
       "      <th>Lung width</th>\n",
       "      <th>CTR - Cardiothoracic Ratio</th>\n",
       "      <th>xx</th>\n",
       "      <th>yy</th>\n",
       "      <th>xy</th>\n",
       "      <th>normalized_diff</th>\n",
       "      <th>Inscribed circle radius</th>\n",
       "      <th>Polygon Area Ratio</th>\n",
       "      <th>Heart perimeter</th>\n",
       "      <th>Heart area</th>\n",
       "      <th>Lung area</th>\n",
       "    </tr>\n",
       "  </thead>\n",
       "  <tbody>\n",
       "    <tr>\n",
       "      <th>0</th>\n",
       "      <td>1</td>\n",
       "      <td>0</td>\n",
       "      <td>172</td>\n",
       "      <td>405</td>\n",
       "      <td>0.424691</td>\n",
       "      <td>1682.3608714590994</td>\n",
       "      <td>3153.671880299657</td>\n",
       "      <td>-638.5311091794423</td>\n",
       "      <td>-0.3042392565074078</td>\n",
       "      <td>68.81860</td>\n",
       "      <td>0.21344605475040257</td>\n",
       "      <td>679.487369</td>\n",
       "      <td>24898</td>\n",
       "      <td>75419</td>\n",
       "    </tr>\n",
       "    <tr>\n",
       "      <th>1</th>\n",
       "      <td>2</td>\n",
       "      <td>1</td>\n",
       "      <td>159</td>\n",
       "      <td>391</td>\n",
       "      <td>0.406650</td>\n",
       "      <td>1526.660959877028</td>\n",
       "      <td>5102.159053732461</td>\n",
       "      <td>-889.6784046829048</td>\n",
       "      <td>-0.5393868119084021</td>\n",
       "      <td>73.92564</td>\n",
       "      <td>0.20365244865718798</td>\n",
       "      <td>788.658942</td>\n",
       "      <td>29851</td>\n",
       "      <td>94494</td>\n",
       "    </tr>\n",
       "    <tr>\n",
       "      <th>2</th>\n",
       "      <td>5</td>\n",
       "      <td>0</td>\n",
       "      <td>208</td>\n",
       "      <td>400</td>\n",
       "      <td>0.520000</td>\n",
       "      <td>2465.9033921095847</td>\n",
       "      <td>5376.834706657514</td>\n",
       "      <td>-1755.3446985706441</td>\n",
       "      <td>-0.3711626319646625</td>\n",
       "      <td>69.33974</td>\n",
       "      <td>0.32078694801818824</td>\n",
       "      <td>862.322937</td>\n",
       "      <td>33653</td>\n",
       "      <td>66666</td>\n",
       "    </tr>\n",
       "    <tr>\n",
       "      <th>3</th>\n",
       "      <td>7</td>\n",
       "      <td>1</td>\n",
       "      <td>226</td>\n",
       "      <td>435</td>\n",
       "      <td>0.519540</td>\n",
       "      <td>2509.0635928775273</td>\n",
       "      <td>6129.821269595383</td>\n",
       "      <td>-1025.0798057957954</td>\n",
       "      <td>-0.4191232704635678</td>\n",
       "      <td>84.14868</td>\n",
       "      <td>0.3175446107949837</td>\n",
       "      <td>906.724959</td>\n",
       "      <td>42018</td>\n",
       "      <td>82596</td>\n",
       "    </tr>\n",
       "    <tr>\n",
       "      <th>4</th>\n",
       "      <td>8</td>\n",
       "      <td>1</td>\n",
       "      <td>211</td>\n",
       "      <td>420</td>\n",
       "      <td>0.502381</td>\n",
       "      <td>2368.7701350238644</td>\n",
       "      <td>5441.767074886623</td>\n",
       "      <td>-1493.0400615856156</td>\n",
       "      <td>-0.3934424556563858</td>\n",
       "      <td>73.78347</td>\n",
       "      <td>0.2635421805624075</td>\n",
       "      <td>864.239678</td>\n",
       "      <td>35346</td>\n",
       "      <td>85631</td>\n",
       "    </tr>\n",
       "  </tbody>\n",
       "</table>\n",
       "</div>"
      ],
      "text/plain": [
       "   ID  Cardiomegaly  Heart width  Lung width  CTR - Cardiothoracic Ratio  \\\n",
       "0   1             0          172         405                    0.424691   \n",
       "1   2             1          159         391                    0.406650   \n",
       "2   5             0          208         400                    0.520000   \n",
       "3   7             1          226         435                    0.519540   \n",
       "4   8             1          211         420                    0.502381   \n",
       "\n",
       "                   xx                 yy                   xy  \\\n",
       "0  1682.3608714590994  3153.671880299657   -638.5311091794423   \n",
       "1   1526.660959877028  5102.159053732461   -889.6784046829048   \n",
       "2  2465.9033921095847  5376.834706657514  -1755.3446985706441   \n",
       "3  2509.0635928775273  6129.821269595383  -1025.0798057957954   \n",
       "4  2368.7701350238644  5441.767074886623  -1493.0400615856156   \n",
       "\n",
       "       normalized_diff  Inscribed circle radius   Polygon Area Ratio  \\\n",
       "0  -0.3042392565074078                 68.81860  0.21344605475040257   \n",
       "1  -0.5393868119084021                 73.92564  0.20365244865718798   \n",
       "2  -0.3711626319646625                 69.33974  0.32078694801818824   \n",
       "3  -0.4191232704635678                 84.14868   0.3175446107949837   \n",
       "4  -0.3934424556563858                 73.78347   0.2635421805624075   \n",
       "\n",
       "   Heart perimeter  Heart area   Lung area  \n",
       "0       679.487369        24898      75419  \n",
       "1       788.658942        29851      94494  \n",
       "2       862.322937        33653      66666  \n",
       "3       906.724959        42018      82596  \n",
       "4       864.239678        35346      85631  "
      ]
     },
     "execution_count": 107,
     "metadata": {},
     "output_type": "execute_result"
    }
   ],
   "source": [
    "df.head()"
   ]
  },
  {
   "cell_type": "code",
   "execution_count": 108,
   "id": "b22be7f0",
   "metadata": {},
   "outputs": [
    {
     "name": "stdout",
     "output_type": "stream",
     "text": [
      "<class 'pandas.core.frame.DataFrame'>\n",
      "RangeIndex: 37 entries, 0 to 36\n",
      "Data columns (total 14 columns):\n",
      " #   Column                      Non-Null Count  Dtype  \n",
      "---  ------                      --------------  -----  \n",
      " 0   ID                          37 non-null     int64  \n",
      " 1   Cardiomegaly                37 non-null     int64  \n",
      " 2   Heart width                 37 non-null     int64  \n",
      " 3   Lung width                  37 non-null     int64  \n",
      " 4   CTR - Cardiothoracic Ratio  37 non-null     float64\n",
      " 5   xx                          37 non-null     object \n",
      " 6   yy                          37 non-null     object \n",
      " 7   xy                          37 non-null     object \n",
      " 8   normalized_diff             37 non-null     object \n",
      " 9   Inscribed circle radius     37 non-null     float64\n",
      " 10  Polygon Area Ratio          37 non-null     object \n",
      " 11  Heart perimeter             37 non-null     float64\n",
      " 12  Heart area                  37 non-null     int64  \n",
      " 13  Lung area                   37 non-null     int64  \n",
      "dtypes: float64(3), int64(6), object(5)\n",
      "memory usage: 4.2+ KB\n"
     ]
    }
   ],
   "source": [
    "df.info()"
   ]
  },
  {
   "cell_type": "markdown",
   "id": "49982789",
   "metadata": {},
   "source": [
    "Some columns with numerical values are stored as strings. We need to convert them to numeric types. There are no columns with categorical text features, so there is no need for encoding methods."
   ]
  },
  {
   "cell_type": "code",
   "execution_count": 109,
   "id": "1515942d",
   "metadata": {},
   "outputs": [
    {
     "name": "stdout",
     "output_type": "stream",
     "text": [
      "<class 'pandas.core.frame.DataFrame'>\n",
      "RangeIndex: 37 entries, 0 to 36\n",
      "Data columns (total 14 columns):\n",
      " #   Column                      Non-Null Count  Dtype  \n",
      "---  ------                      --------------  -----  \n",
      " 0   ID                          37 non-null     int64  \n",
      " 1   Cardiomegaly                37 non-null     int64  \n",
      " 2   Heart width                 37 non-null     int64  \n",
      " 3   Lung width                  37 non-null     int64  \n",
      " 4   CTR - Cardiothoracic Ratio  37 non-null     float64\n",
      " 5   xx                          37 non-null     float64\n",
      " 6   yy                          37 non-null     float64\n",
      " 7   xy                          37 non-null     float64\n",
      " 8   normalized_diff             37 non-null     float64\n",
      " 9   Inscribed circle radius     37 non-null     float64\n",
      " 10  Polygon Area Ratio          37 non-null     float64\n",
      " 11  Heart perimeter             37 non-null     float64\n",
      " 12  Heart area                  37 non-null     int64  \n",
      " 13  Lung area                   37 non-null     int64  \n",
      "dtypes: float64(8), int64(6)\n",
      "memory usage: 4.2 KB\n"
     ]
    }
   ],
   "source": [
    "for col in df.columns:\n",
    "    if df[col].dtype == 'object':\n",
    "        df[col] = pd.to_numeric(df[col], errors='coerce')\n",
    "df.info()"
   ]
  },
  {
   "cell_type": "code",
   "execution_count": 110,
   "id": "be588519",
   "metadata": {},
   "outputs": [
    {
     "name": "stdout",
     "output_type": "stream",
     "text": [
      "Missing values per column:\n",
      "ID                            0\n",
      "Cardiomegaly                  0\n",
      "Heart width                   0\n",
      "Lung width                    0\n",
      "CTR - Cardiothoracic Ratio    0\n",
      "xx                            0\n",
      "yy                            0\n",
      "xy                            0\n",
      "normalized_diff               0\n",
      "Inscribed circle radius       0\n",
      "Polygon Area Ratio            0\n",
      "Heart perimeter               0\n",
      "Heart area                    0\n",
      "Lung area                     0\n",
      "dtype: int64\n"
     ]
    }
   ],
   "source": [
    "# Checking for missing values\n",
    "print(\"Missing values per column:\")\n",
    "print(df.isnull().sum())"
   ]
  },
  {
   "cell_type": "markdown",
   "id": "00dc50d0",
   "metadata": {},
   "source": [
    "No missing values were detected, so imputation is unnecessary"
   ]
  },
  {
   "cell_type": "code",
   "execution_count": 111,
   "id": "59043bdf",
   "metadata": {},
   "outputs": [
    {
     "data": {
      "text/plain": [
       "array([[<Axes: title={'center': 'Heart width'}>,\n",
       "        <Axes: title={'center': 'Lung width'}>,\n",
       "        <Axes: title={'center': 'CTR - Cardiothoracic Ratio'}>],\n",
       "       [<Axes: title={'center': 'xx'}>, <Axes: title={'center': 'yy'}>,\n",
       "        <Axes: title={'center': 'xy'}>],\n",
       "       [<Axes: title={'center': 'normalized_diff'}>,\n",
       "        <Axes: title={'center': 'Inscribed circle radius'}>,\n",
       "        <Axes: title={'center': 'Polygon Area Ratio'}>],\n",
       "       [<Axes: title={'center': 'Heart perimeter'}>,\n",
       "        <Axes: title={'center': 'Heart area '}>,\n",
       "        <Axes: title={'center': 'Lung area'}>]], dtype=object)"
      ]
     },
     "execution_count": 111,
     "metadata": {},
     "output_type": "execute_result"
    },
    {
     "data": {
      "image/png": "[encoded data removed]",
      "text/plain": [
       "<Figure size 1500x1000 with 12 Axes>"
      ]
     },
     "metadata": {},
     "output_type": "display_data"
    }
   ],
   "source": [
    "feature_columns = df.columns.drop(['ID', 'Cardiomegaly'])\n",
    "df[feature_columns].hist(bins=30, figsize=(15, 10))"
   ]
  },
  {
   "cell_type": "markdown",
   "id": "d9357091",
   "metadata": {},
   "source": [
    "There are no features that are strongly heavy-tailed. Additionally, we don't have a large amount of data and some outliers may indicate the disease rather than noise."
   ]
  },
  {
   "cell_type": "code",
   "execution_count": 112,
   "id": "523d842b",
   "metadata": {},
   "outputs": [
    {
     "data": {
      "text/plain": [
       "Cardiomegaly                  1.000000\n",
       "Inscribed circle radius       0.454456\n",
       "Heart area                    0.447708\n",
       "Heart perimeter               0.424253\n",
       "xx                            0.383980\n",
       "Heart width                   0.366739\n",
       "CTR - Cardiothoracic Ratio    0.297782\n",
       "yy                            0.250155\n",
       "Polygon Area Ratio            0.210167\n",
       "normalized_diff               0.170306\n",
       "ID                            0.158145\n",
       "Lung area                     0.137400\n",
       "Lung width                    0.096037\n",
       "xy                           -0.229837\n",
       "Name: Cardiomegaly, dtype: float64"
      ]
     },
     "execution_count": 112,
     "metadata": {},
     "output_type": "execute_result"
    }
   ],
   "source": [
    "corr = df.corr()\n",
    "corr[\"Cardiomegaly\"].sort_values(ascending=False)"
   ]
  },
  {
   "cell_type": "markdown",
   "id": "2527cdef",
   "metadata": {},
   "source": [
    "### Data Preparing\n",
    "Features related to heart size have the biggest impact on the results. To improve the model performance, additional ratio-based features are created."
   ]
  },
  {
   "cell_type": "code",
   "execution_count": 113,
   "id": "7d3d2e73",
   "metadata": {},
   "outputs": [],
   "source": [
    "# Separate features and target\n",
    "X = df.drop(['ID', 'Cardiomegaly'], axis=1)\n",
    "y = df['Cardiomegaly']\n"
   ]
  },
  {
   "cell_type": "code",
   "execution_count": null,
   "id": "e45586fb",
   "metadata": {},
   "outputs": [
    {
     "name": "stdout",
     "output_type": "stream",
     "text": [
      "\n",
      "Feature columns: ['Heart width', 'Lung width', 'CTR - Cardiothoracic Ratio', 'xx', 'yy', 'xy', 'normalized_diff', 'Inscribed circle radius', 'Polygon Area Ratio', 'Heart perimeter', 'Heart area ', 'Lung area', 'Width Ratio', 'Area Ratio']\n"
     ]
    }
   ],
   "source": [
    "# Create new features\n",
    "X['Width Ratio'] = X['Heart width'] / X['Lung width']\n",
    "X['Area Ratio'] = X['Heart area '] / X['Lung area']\n",
    "\n",
    "print(f\"\\nFeature columns: {X.columns.tolist()}\")"
   ]
  },
  {
   "cell_type": "markdown",
   "id": "10288c0a",
   "metadata": {},
   "source": [
    "Due to the limited amount of data, both training and test sets are stratified to ensure a similar ratio of positive and negative cases"
   ]
  },
  {
   "cell_type": "code",
   "execution_count": 115,
   "id": "07bf067d",
   "metadata": {},
   "outputs": [],
   "source": [
    "X_train, X_test, y_train, y_test = train_test_split(X, y, test_size=0.2, random_state=42, stratify=y)"
   ]
  },
  {
   "cell_type": "code",
   "execution_count": 116,
   "id": "0bcd0f6a",
   "metadata": {},
   "outputs": [],
   "source": [
    "# Standardize features\n",
    "scaler = StandardScaler()\n",
    "X_train_scaled = scaler.fit_transform(X_train)\n",
    "X_test_scaled = scaler.transform(X_test)"
   ]
  }
 ],
 "metadata": {
  "kernelspec": {
   "display_name": ".venv",
   "language": "python",
   "name": "python3"
  },
  "language_info": {
   "codemirror_mode": {
    "name": "ipython",
    "version": 3
   },
   "file_extension": ".py",
   "mimetype": "text/x-python",
   "name": "python",
   "nbconvert_exporter": "python",
   "pygments_lexer": "ipython3",
   "version": "3.12.3"
  }
 },
 "nbformat": 4,
 "nbformat_minor": 5
}
